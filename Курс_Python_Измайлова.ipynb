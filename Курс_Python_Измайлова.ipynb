{
  "nbformat": 4,
  "nbformat_minor": 0,
  "metadata": {
    "colab": {
      "provenance": []
    },
    "kernelspec": {
      "name": "python3",
      "display_name": "Python 3"
    },
    "language_info": {
      "name": "python"
    }
  },
  "cells": [
    {
      "cell_type": "markdown",
      "source": [
        "Задание 1\n"
      ],
      "metadata": {
        "id": "rlc3AxINq5fq"
      }
    },
    {
      "cell_type": "code",
      "execution_count": null,
      "metadata": {
        "id": "xSVKlHI-qu-4"
      },
      "outputs": [],
      "source": [
        "class Chocolate:\n",
        "    def __init__(self, price: float, addon: str = None):\n",
        "        if price <= 0:\n",
        "            raise ValueError(\"Цена шоколадного батончика должна быть больше нуля.\")\n",
        "        self.price = price\n",
        "        self.addon = addon\n",
        "\n",
        "    def show_my_chocolate(self):\n",
        "        if self.addon:\n",
        "            print(f\"Шоколадный батончик, добавка: {self.addon}\")\n",
        "        else:\n",
        "            print(\"Обычный шоколадный батончик\")\n",
        "\n",
        "    def __str__(self):\n",
        "        return f\"Шоколадный батончик, {self.price} рублей\""
      ]
    },
    {
      "cell_type": "code",
      "source": [
        "# Примеры использования:\n",
        "chocolate1 = Chocolate(100)\n",
        "chocolate2 = Chocolate(150, \"Орехи\")\n",
        "\n",
        "# Демонстрация работы метода show_my_chocolate\n",
        "chocolate1.show_my_chocolate()  # Обычный шоколадный батончик\n",
        "chocolate2.show_my_chocolate()  # Шоколадный батончик, добавка: Орехи"
      ],
      "metadata": {
        "colab": {
          "base_uri": "https://localhost:8080/"
        },
        "id": "yPDTn4T5q9k8",
        "outputId": "b975afcd-609a-40e3-cbd2-a6482c7a2f45"
      },
      "execution_count": null,
      "outputs": [
        {
          "output_type": "stream",
          "name": "stdout",
          "text": [
            "Обычный шоколадный батончик\n",
            "Шоколадный батончик, добавка: Орехи\n"
          ]
        }
      ]
    },
    {
      "cell_type": "code",
      "source": [
        "# Демонстрация работы переопределенного метода __str__\n",
        "print(chocolate1)  # Шоколадный батончик, 100 рублей\n",
        "print(chocolate2)  # Шоколадный батончик, 150 рублей"
      ],
      "metadata": {
        "colab": {
          "base_uri": "https://localhost:8080/"
        },
        "id": "uwr3KlkZrG7s",
        "outputId": "d31f8d90-82de-4e44-fb40-a9ce7b4f675d"
      },
      "execution_count": null,
      "outputs": [
        {
          "output_type": "stream",
          "name": "stdout",
          "text": [
            "Шоколадный батончик, 100 рублей\n",
            "Шоколадный батончик, 150 рублей\n"
          ]
        }
      ]
    }
  ]
}