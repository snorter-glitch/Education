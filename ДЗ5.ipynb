{
  "nbformat": 4,
  "nbformat_minor": 0,
  "metadata": {
    "colab": {
      "provenance": []
    },
    "kernelspec": {
      "name": "python3",
      "display_name": "Python 3"
    },
    "language_info": {
      "name": "python"
    }
  },
  "cells": [
    {
      "cell_type": "code",
      "source": [
        "import polars as pl\n",
        "\n",
        "# Считываем датасет из файла train.csv\n",
        "df = pl.read_csv('train.csv')\n",
        "\n",
        "# Выводим основную информацию о датасете\n",
        "info = df.describe()\n",
        "dtypes = df.dtypes\n",
        "null_counts = df.null_count()\n",
        "mean_values = df.mean()\n",
        "\n",
        "print(\"Основная информация о датасете:\")\n",
        "print(info)\n",
        "print(\"\\nТипы данных:\")\n",
        "print(dtypes)\n",
        "print(\"\\nКоличество пропусков:\")\n",
        "print(null_counts)\n",
        "print(\"\\nСредние значения:\")\n",
        "print(mean_values)\n",
        "\n",
        "# Подсчитываем количество пассажиров каждого класса (Pclass)\n",
        "passenger_class_counts = df['Pclass'].value_counts()\n",
        "print(\"\\nКоличество пассажиров каждого класса:\")\n",
        "print(passenger_class_counts)\n",
        "\n",
        "# Подсчитываем количество выживших мужчин и женщин без groupby\n",
        "male_survivors = df.filter(pl.col('Sex') == 'male').select(pl.sum('Survived')).to_series()[0]\n",
        "female_survivors = df.filter(pl.col('Sex') == 'female').select(pl.sum('Survived')).to_series()[0]\n",
        "\n",
        "print(\"\\nКоличество выживших мужчин:\", male_survivors)\n",
        "print(\"Количество выживших женщин:\", female_survivors)\n",
        "\n",
        "# Выводим часть таблицы с пассажирами, возраст которых больше 44 лет\n",
        "passengers_above_44 = df.filter(pl.col('Age') > 44)\n",
        "print(\"\\nПассажиры старше 44 лет:\")\n",
        "print(passengers_above_44)\n"
      ],
      "metadata": {
        "colab": {
          "base_uri": "https://localhost:8080/"
        },
        "id": "yPzxbmAxTF7S",
        "outputId": "debdd7e2-f85b-4e27-d4b3-070901226f67"
      },
      "execution_count": 22,
      "outputs": [
        {
          "output_type": "stream",
          "name": "stdout",
          "text": [
            "Основная информация о датасете:\n",
            "shape: (9, 13)\n",
            "┌────────────┬─────────────┬──────────┬──────────┬───┬───────────┬───────────┬───────┬──────────┐\n",
            "│ statistic  ┆ PassengerId ┆ Survived ┆ Pclass   ┆ … ┆ Ticket    ┆ Fare      ┆ Cabin ┆ Embarked │\n",
            "│ ---        ┆ ---         ┆ ---      ┆ ---      ┆   ┆ ---       ┆ ---       ┆ ---   ┆ ---      │\n",
            "│ str        ┆ f64         ┆ f64      ┆ f64      ┆   ┆ str       ┆ f64       ┆ str   ┆ str      │\n",
            "╞════════════╪═════════════╪══════════╪══════════╪═══╪═══════════╪═══════════╪═══════╪══════════╡\n",
            "│ count      ┆ 891.0       ┆ 891.0    ┆ 891.0    ┆ … ┆ 891       ┆ 891.0     ┆ 204   ┆ 889      │\n",
            "│ null_count ┆ 0.0         ┆ 0.0      ┆ 0.0      ┆ … ┆ 0         ┆ 0.0       ┆ 687   ┆ 2        │\n",
            "│ mean       ┆ 446.0       ┆ 0.383838 ┆ 2.308642 ┆ … ┆ null      ┆ 32.204208 ┆ null  ┆ null     │\n",
            "│ std        ┆ 257.353842  ┆ 0.486592 ┆ 0.836071 ┆ … ┆ null      ┆ 49.693429 ┆ null  ┆ null     │\n",
            "│ min        ┆ 1.0         ┆ 0.0      ┆ 1.0      ┆ … ┆ 110152    ┆ 0.0       ┆ A10   ┆ C        │\n",
            "│ 25%        ┆ 224.0       ┆ 0.0      ┆ 2.0      ┆ … ┆ null      ┆ 7.925     ┆ null  ┆ null     │\n",
            "│ 50%        ┆ 446.0       ┆ 0.0      ┆ 3.0      ┆ … ┆ null      ┆ 14.4542   ┆ null  ┆ null     │\n",
            "│ 75%        ┆ 669.0       ┆ 1.0      ┆ 3.0      ┆ … ┆ null      ┆ 31.0      ┆ null  ┆ null     │\n",
            "│ max        ┆ 891.0       ┆ 1.0      ┆ 3.0      ┆ … ┆ WE/P 5735 ┆ 512.3292  ┆ T     ┆ S        │\n",
            "└────────────┴─────────────┴──────────┴──────────┴───┴───────────┴───────────┴───────┴──────────┘\n",
            "\n",
            "Типы данных:\n",
            "[Int64, Int64, Int64, String, String, Float64, Int64, Int64, String, Float64, String, String]\n",
            "\n",
            "Количество пропусков:\n",
            "shape: (1, 12)\n",
            "┌─────────────┬──────────┬────────┬──────┬───┬────────┬──────┬───────┬──────────┐\n",
            "│ PassengerId ┆ Survived ┆ Pclass ┆ Name ┆ … ┆ Ticket ┆ Fare ┆ Cabin ┆ Embarked │\n",
            "│ ---         ┆ ---      ┆ ---    ┆ ---  ┆   ┆ ---    ┆ ---  ┆ ---   ┆ ---      │\n",
            "│ u32         ┆ u32      ┆ u32    ┆ u32  ┆   ┆ u32    ┆ u32  ┆ u32   ┆ u32      │\n",
            "╞═════════════╪══════════╪════════╪══════╪═══╪════════╪══════╪═══════╪══════════╡\n",
            "│ 0           ┆ 0        ┆ 0      ┆ 0    ┆ … ┆ 0      ┆ 0    ┆ 687   ┆ 2        │\n",
            "└─────────────┴──────────┴────────┴──────┴───┴────────┴──────┴───────┴──────────┘\n",
            "\n",
            "Средние значения:\n",
            "shape: (1, 12)\n",
            "┌─────────────┬──────────┬──────────┬──────┬───┬────────┬───────────┬───────┬──────────┐\n",
            "│ PassengerId ┆ Survived ┆ Pclass   ┆ Name ┆ … ┆ Ticket ┆ Fare      ┆ Cabin ┆ Embarked │\n",
            "│ ---         ┆ ---      ┆ ---      ┆ ---  ┆   ┆ ---    ┆ ---       ┆ ---   ┆ ---      │\n",
            "│ f64         ┆ f64      ┆ f64      ┆ str  ┆   ┆ str    ┆ f64       ┆ str   ┆ str      │\n",
            "╞═════════════╪══════════╪══════════╪══════╪═══╪════════╪═══════════╪═══════╪══════════╡\n",
            "│ 446.0       ┆ 0.383838 ┆ 2.308642 ┆ null ┆ … ┆ null   ┆ 32.204208 ┆ null  ┆ null     │\n",
            "└─────────────┴──────────┴──────────┴──────┴───┴────────┴───────────┴───────┴──────────┘\n",
            "\n",
            "Количество пассажиров каждого класса:\n",
            "shape: (3, 2)\n",
            "┌────────┬───────┐\n",
            "│ Pclass ┆ count │\n",
            "│ ---    ┆ ---   │\n",
            "│ i64    ┆ u32   │\n",
            "╞════════╪═══════╡\n",
            "│ 1      ┆ 216   │\n",
            "│ 3      ┆ 491   │\n",
            "│ 2      ┆ 184   │\n",
            "└────────┴───────┘\n",
            "\n",
            "Количество выживших мужчин: 109\n",
            "Количество выживших женщин: 233\n",
            "\n",
            "Пассажиры старше 44 лет:\n",
            "shape: (115, 12)\n",
            "┌─────────────┬──────────┬────────┬──────────────────┬───┬────────────┬─────────┬───────┬──────────┐\n",
            "│ PassengerId ┆ Survived ┆ Pclass ┆ Name             ┆ … ┆ Ticket     ┆ Fare    ┆ Cabin ┆ Embarked │\n",
            "│ ---         ┆ ---      ┆ ---    ┆ ---              ┆   ┆ ---        ┆ ---     ┆ ---   ┆ ---      │\n",
            "│ i64         ┆ i64      ┆ i64    ┆ str              ┆   ┆ str        ┆ f64     ┆ str   ┆ str      │\n",
            "╞═════════════╪══════════╪════════╪══════════════════╪═══╪════════════╪═════════╪═══════╪══════════╡\n",
            "│ 7           ┆ 0        ┆ 1      ┆ McCarthy, Mr.    ┆ … ┆ 17463      ┆ 51.8625 ┆ E46   ┆ S        │\n",
            "│             ┆          ┆        ┆ Timothy J        ┆   ┆            ┆         ┆       ┆          │\n",
            "│ 12          ┆ 1        ┆ 1      ┆ Bonnell, Miss.   ┆ … ┆ 113783     ┆ 26.55   ┆ C103  ┆ S        │\n",
            "│             ┆          ┆        ┆ Elizabeth        ┆   ┆            ┆         ┆       ┆          │\n",
            "│ 16          ┆ 1        ┆ 2      ┆ Hewlett, Mrs.    ┆ … ┆ 248706     ┆ 16.0    ┆ null  ┆ S        │\n",
            "│             ┆          ┆        ┆ (Mary D          ┆   ┆            ┆         ┆       ┆          │\n",
            "│             ┆          ┆        ┆ Kingcome…        ┆   ┆            ┆         ┆       ┆          │\n",
            "│ 34          ┆ 0        ┆ 2      ┆ Wheadon, Mr.     ┆ … ┆ C.A. 24579 ┆ 10.5    ┆ null  ┆ S        │\n",
            "│             ┆          ┆        ┆ Edward H         ┆   ┆            ┆         ┆       ┆          │\n",
            "│ 53          ┆ 1        ┆ 1      ┆ Harper, Mrs.     ┆ … ┆ PC 17572   ┆ 76.7292 ┆ D33   ┆ C        │\n",
            "│             ┆          ┆        ┆ Henry Sleeper    ┆   ┆            ┆         ┆       ┆          │\n",
            "│             ┆          ┆        ┆ (My…             ┆   ┆            ┆         ┆       ┆          │\n",
            "│ …           ┆ …        ┆ …      ┆ …                ┆ … ┆ …          ┆ …       ┆ …     ┆ …        │\n",
            "│ 858         ┆ 1        ┆ 1      ┆ Daly, Mr. Peter  ┆ … ┆ 113055     ┆ 26.55   ┆ E17   ┆ S        │\n",
            "│             ┆          ┆        ┆ Denis            ┆   ┆            ┆         ┆       ┆          │\n",
            "│ 863         ┆ 1        ┆ 1      ┆ Swift, Mrs.      ┆ … ┆ 17466      ┆ 25.9292 ┆ D17   ┆ S        │\n",
            "│             ┆          ┆        ┆ Frederick Joel   ┆   ┆            ┆         ┆       ┆          │\n",
            "│             ┆          ┆        ┆ (Ma…             ┆   ┆            ┆         ┆       ┆          │\n",
            "│ 872         ┆ 1        ┆ 1      ┆ Beckwith, Mrs.   ┆ … ┆ 11751      ┆ 52.5542 ┆ D35   ┆ S        │\n",
            "│             ┆          ┆        ┆ Richard Leonard… ┆   ┆            ┆         ┆       ┆          │\n",
            "│ 874         ┆ 0        ┆ 3      ┆ Vander Cruyssen, ┆ … ┆ 345765     ┆ 9.0     ┆ null  ┆ S        │\n",
            "│             ┆          ┆        ┆ Mr. Victor       ┆   ┆            ┆         ┆       ┆          │\n",
            "│ 880         ┆ 1        ┆ 1      ┆ Potter, Mrs.     ┆ … ┆ 11767      ┆ 83.1583 ┆ C50   ┆ C        │\n",
            "│             ┆          ┆        ┆ Thomas Jr (Lily  ┆   ┆            ┆         ┆       ┆          │\n",
            "│             ┆          ┆        ┆ A…               ┆   ┆            ┆         ┆       ┆          │\n",
            "└─────────────┴──────────┴────────┴──────────────────┴───┴────────────┴─────────┴───────┴──────────┘\n"
          ]
        }
      ]
    },
    {
      "cell_type": "code",
      "source": [
        "import pandas as pd\n",
        "import bottleneck as bn\n",
        "\n",
        "# Считываем датасет из файла train.csv\n",
        "df = pd.read_csv('train.csv')\n",
        "\n",
        "# Рассчитываем средний возраст и стандартное отклонение\n",
        "average_age = bn.nanmean(df['Age'])\n",
        "std_age = bn.nanstd(df['Age'])\n",
        "\n",
        "print(\"Средний возраст пассажиров:\", average_age)\n",
        "print(\"Стандартное отклонение возраста:\", std_age)\n",
        "\n",
        "# Создаем новый столбец Fare_new\n",
        "df['Fare_new'] = df['Fare'].apply(lambda x: x * 1.3)\n",
        "\n",
        "# Выводим первые несколько строк датафрейма с новым столбцом\n",
        "print(\"\\nПервые 5 строк с новым столбцом Fare_new:\")\n",
        "print(df[['Fare', 'Fare_new']].head())\n"
      ],
      "metadata": {
        "colab": {
          "base_uri": "https://localhost:8080/"
        },
        "id": "C80B5WwPTfUR",
        "outputId": "42ad2be5-8a87-4e48-fa24-8f939fac5b57"
      },
      "execution_count": 23,
      "outputs": [
        {
          "output_type": "stream",
          "name": "stdout",
          "text": [
            "Средний возраст пассажиров: 29.69911764705882\n",
            "Стандартное отклонение возраста: 14.516321150817317\n",
            "\n",
            "Первые 5 строк с новым столбцом Fare_new:\n",
            "      Fare  Fare_new\n",
            "0   7.2500   9.42500\n",
            "1  71.2833  92.66829\n",
            "2   7.9250  10.30250\n",
            "3  53.1000  69.03000\n",
            "4   8.0500  10.46500\n"
          ]
        }
      ]
    },
    {
      "cell_type": "code",
      "source": [
        "import pandas as pd\n",
        "\n",
        "# Считываем датасет из файла Housing.csv\n",
        "df = pd.read_csv('Housing.csv')\n",
        "\n",
        "# 1. Определяем текущее потребление памяти\n",
        "initial_memory = df.memory_usage(deep=True).sum()\n",
        "print(\"Память до оптимизации:\", initial_memory, \"bytes\")\n",
        "\n",
        "# 2. Определяем оптимальные типы данных для каждого столбца\n",
        "optimized_types = {\n",
        "    'price': 'int32',  # Цены могут быть большими, но не выходят за пределы int32\n",
        "    'area': 'int32',   # Площадь домов в целом не превышает 32-битное значение\n",
        "    'bedrooms': 'int8',  # Количество спален ограничено (0-10), поэтому int8 достаточно\n",
        "    'bathrooms': 'int8', # Аналогично для количества ванных\n",
        "    'stories': 'int8',   # Количество этажей также небольшое\n",
        "    'mainroad': 'category',  # Два возможных значения ('yes' или 'no')\n",
        "    'guestroom': 'category', # Аналогично\n",
        "    'basement': 'category',  # Аналогично\n",
        "    'hotwaterheating': 'category',  # Аналогично\n",
        "    'airconditioning': 'category',   # Аналогично\n",
        "    'parking': 'int8',      # Число парковочных мест ограничено\n",
        "    'prefarea': 'category',  # Аналогично\n",
        "    'furnishingstatus': 'category'  # Аналогично\n",
        "}\n",
        "\n",
        "# Применяем оптимизацию типов данных\n",
        "df = df.astype(optimized_types)\n",
        "\n",
        "# 3. Сравниваем потребление памяти после оптимизации\n",
        "optimized_memory = df.memory_usage(deep=True).sum()\n",
        "print(\"Память после оптимизации:\", optimized_memory, \"bytes\")\n",
        "\n",
        "# Печатаем снижение потребления памяти\n",
        "memory_reduction = initial_memory - optimized_memory\n",
        "print(\"Снижение потребления памяти:\", memory_reduction, \"bytes\")\n"
      ],
      "metadata": {
        "colab": {
          "base_uri": "https://localhost:8080/"
        },
        "id": "JTVAFxGuUUYI",
        "outputId": "a41bd4de-6eed-4a35-e258-b2441c4bbf15"
      },
      "execution_count": 24,
      "outputs": [
        {
          "output_type": "stream",
          "name": "stdout",
          "text": [
            "Память до оптимизации: 257760 bytes\n",
            "Память после оптимизации: 12158 bytes\n",
            "Снижение потребления памяти: 245602 bytes\n"
          ]
        }
      ]
    }
  ]
}