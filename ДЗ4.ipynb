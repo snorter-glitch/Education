{
  "nbformat": 4,
  "nbformat_minor": 0,
  "metadata": {
    "colab": {
      "provenance": []
    },
    "kernelspec": {
      "name": "python3",
      "display_name": "Python 3"
    },
    "language_info": {
      "name": "python"
    }
  },
  "cells": [
    {
      "cell_type": "code",
      "execution_count": 1,
      "metadata": {
        "colab": {
          "base_uri": "https://localhost:8080/"
        },
        "id": "M2wbaa3VHYBH",
        "outputId": "89509156-4651-4ccf-d5ad-35190b2dbc83"
      },
      "outputs": [
        {
          "output_type": "stream",
          "name": "stdout",
          "text": [
            "Информация о датасете:\n",
            "<class 'pandas.core.frame.DataFrame'>\n",
            "RangeIndex: 891 entries, 0 to 890\n",
            "Data columns (total 12 columns):\n",
            " #   Column       Non-Null Count  Dtype  \n",
            "---  ------       --------------  -----  \n",
            " 0   PassengerId  891 non-null    int64  \n",
            " 1   Survived     891 non-null    int64  \n",
            " 2   Pclass       891 non-null    int64  \n",
            " 3   Name         891 non-null    object \n",
            " 4   Sex          891 non-null    object \n",
            " 5   Age          714 non-null    float64\n",
            " 6   SibSp        891 non-null    int64  \n",
            " 7   Parch        891 non-null    int64  \n",
            " 8   Ticket       891 non-null    object \n",
            " 9   Fare         891 non-null    float64\n",
            " 10  Cabin        204 non-null    object \n",
            " 11  Embarked     889 non-null    object \n",
            "dtypes: float64(2), int64(5), object(5)\n",
            "memory usage: 83.7+ KB\n",
            "None\n",
            "\n",
            "Статистическая информация:\n",
            "       PassengerId    Survived      Pclass         Age       SibSp  \\\n",
            "count   891.000000  891.000000  891.000000  714.000000  891.000000   \n",
            "mean    446.000000    0.383838    2.308642   29.699118    0.523008   \n",
            "std     257.353842    0.486592    0.836071   14.526497    1.102743   \n",
            "min       1.000000    0.000000    1.000000    0.420000    0.000000   \n",
            "25%     223.500000    0.000000    2.000000   20.125000    0.000000   \n",
            "50%     446.000000    0.000000    3.000000   28.000000    0.000000   \n",
            "75%     668.500000    1.000000    3.000000   38.000000    1.000000   \n",
            "max     891.000000    1.000000    3.000000   80.000000    8.000000   \n",
            "\n",
            "            Parch        Fare  \n",
            "count  891.000000  891.000000  \n",
            "mean     0.381594   32.204208  \n",
            "std      0.806057   49.693429  \n",
            "min      0.000000    0.000000  \n",
            "25%      0.000000    7.910400  \n",
            "50%      0.000000   14.454200  \n",
            "75%      0.000000   31.000000  \n",
            "max      6.000000  512.329200  \n",
            "\n",
            "Количество пропусков по столбцам:\n",
            "PassengerId      0\n",
            "Survived         0\n",
            "Pclass           0\n",
            "Name             0\n",
            "Sex              0\n",
            "Age            177\n",
            "SibSp            0\n",
            "Parch            0\n",
            "Ticket           0\n",
            "Fare             0\n",
            "Cabin          687\n",
            "Embarked         2\n",
            "dtype: int64\n"
          ]
        }
      ],
      "source": [
        "import pandas as pd\n",
        "\n",
        "# Считайте датасет из файла train.csv\n",
        "df = pd.read_csv('train.csv')\n",
        "\n",
        "# Выведите основную информацию о датасете\n",
        "print(\"Информация о датасете:\")\n",
        "print(df.info())\n",
        "print(\"\\nСтатистическая информация:\")\n",
        "print(df.describe())\n",
        "print(\"\\nКоличество пропусков по столбцам:\")\n",
        "print(df.isnull().sum())"
      ]
    },
    {
      "cell_type": "code",
      "source": [
        "# Посчитайте процент выживаемости у каждого класса пассажиров (Pclass)\n",
        "print(\"\\nПроцент выживаемости по классам:\")\n",
        "survival_rate_by_class = df.groupby('Pclass')['Survived'].mean() * 100\n",
        "print(survival_rate_by_class)"
      ],
      "metadata": {
        "colab": {
          "base_uri": "https://localhost:8080/"
        },
        "id": "nA4cWmhhHk53",
        "outputId": "f0354bf3-49ff-46b0-8d9d-4694d856a503"
      },
      "execution_count": 2,
      "outputs": [
        {
          "output_type": "stream",
          "name": "stdout",
          "text": [
            "\n",
            "Процент выживаемости по классам:\n",
            "Pclass\n",
            "1    62.962963\n",
            "2    47.282609\n",
            "3    24.236253\n",
            "Name: Survived, dtype: float64\n"
          ]
        }
      ]
    },
    {
      "cell_type": "code",
      "source": [
        "# Функция для извлечения имени\n",
        "def extract_first_name(full_name):\n",
        "    # Для женских имен берем вторую часть после Mrs., Miss. и других\n",
        "    if \"Mrs.\" in full_name:\n",
        "        return full_name.split(\"Mrs.\")[1].split('(')[-1].split()[0]\n",
        "    elif \"Miss.\" in full_name:\n",
        "        return full_name.split(\"Miss.\")[1].split()[0]\n",
        "    # Для мужских имен - часть после Mr.\n",
        "    elif \"Mr.\" in full_name:\n",
        "        return full_name.split(\"Mr.\")[1].split()[0]\n",
        "    else:\n",
        "        return full_name.split()[0]\n",
        "\n",
        "df['First Name'] = df['Name'].apply(extract_first_name)"
      ],
      "metadata": {
        "id": "IFJSM8LuHoqG"
      },
      "execution_count": 3,
      "outputs": []
    },
    {
      "cell_type": "code",
      "source": [
        "# Выведите самое популярное мужское и самое популярное женское имя на корабле\n",
        "popular_male_name = df[df['Sex'] == 'male']['First Name'].mode()[0]\n",
        "popular_female_name = df[df['Sex'] == 'female']['First Name'].mode()[0]\n",
        "print(\"\\nСамое популярное мужское имя:\", popular_male_name)\n",
        "print(\"Самое популярное женское имя:\", popular_female_name)"
      ],
      "metadata": {
        "colab": {
          "base_uri": "https://localhost:8080/"
        },
        "id": "4DNjuO8VHraA",
        "outputId": "c772b566-dada-417d-e54f-7859f0ef8480"
      },
      "execution_count": 4,
      "outputs": [
        {
          "output_type": "stream",
          "name": "stdout",
          "text": [
            "\n",
            "Самое популярное мужское имя: William\n",
            "Самое популярное женское имя: Anna\n"
          ]
        }
      ]
    },
    {
      "cell_type": "code",
      "source": [
        "# Выведите самое популярное мужское и самое популярное женское имя в каждом классе\n",
        "print(\"\\nПопулярные имена по классам:\")\n",
        "for pclass in df['Pclass'].unique():\n",
        "    male_name_class = df[(df['Sex'] == 'male') & (df['Pclass'] == pclass)]['First Name'].mode()[0]\n",
        "    female_name_class = df[(df['Sex'] == 'female') & (df['Pclass'] == pclass)]['First Name'].mode()[0]\n",
        "    print(f\"Класс {pclass} - Мужское имя: {male_name_class}, Женское имя: {female_name_class}\")\n"
      ],
      "metadata": {
        "colab": {
          "base_uri": "https://localhost:8080/"
        },
        "id": "cR9DiwSwHtts",
        "outputId": "7e03edca-099f-427b-9fde-98ae36ab5532"
      },
      "execution_count": 5,
      "outputs": [
        {
          "output_type": "stream",
          "name": "stdout",
          "text": [
            "\n",
            "Популярные имена по классам:\n",
            "Класс 3 - Мужское имя: William, Женское имя: Anna\n",
            "Класс 1 - Мужское имя: William, Женское имя: Elizabeth\n",
            "Класс 2 - Мужское имя: William, Женское имя: Elizabeth\n"
          ]
        }
      ]
    },
    {
      "cell_type": "code",
      "source": [
        "# Выведите часть таблицы с пассажирами, возраст которых больше 44 лет\n",
        "print(\"\\nПассажиры старше 44 лет:\")\n",
        "print(df[df['Age'] > 44])"
      ],
      "metadata": {
        "colab": {
          "base_uri": "https://localhost:8080/"
        },
        "id": "6P4ynAfiHv5p",
        "outputId": "6a5d668f-9f5b-4eec-b1b4-01021b41ca5f"
      },
      "execution_count": 6,
      "outputs": [
        {
          "output_type": "stream",
          "name": "stdout",
          "text": [
            "\n",
            "Пассажиры старше 44 лет:\n",
            "     PassengerId  Survived  Pclass  \\\n",
            "6              7         0       1   \n",
            "11            12         1       1   \n",
            "15            16         1       2   \n",
            "33            34         0       2   \n",
            "52            53         1       1   \n",
            "..           ...       ...     ...   \n",
            "857          858         1       1   \n",
            "862          863         1       1   \n",
            "871          872         1       1   \n",
            "873          874         0       3   \n",
            "879          880         1       1   \n",
            "\n",
            "                                                  Name     Sex   Age  SibSp  \\\n",
            "6                              McCarthy, Mr. Timothy J    male  54.0      0   \n",
            "11                            Bonnell, Miss. Elizabeth  female  58.0      0   \n",
            "15                    Hewlett, Mrs. (Mary D Kingcome)   female  55.0      0   \n",
            "33                               Wheadon, Mr. Edward H    male  66.0      0   \n",
            "52            Harper, Mrs. Henry Sleeper (Myna Haxtun)  female  49.0      1   \n",
            "..                                                 ...     ...   ...    ...   \n",
            "857                             Daly, Mr. Peter Denis     male  51.0      0   \n",
            "862  Swift, Mrs. Frederick Joel (Margaret Welles Ba...  female  48.0      0   \n",
            "871   Beckwith, Mrs. Richard Leonard (Sallie Monypeny)  female  47.0      1   \n",
            "873                        Vander Cruyssen, Mr. Victor    male  47.0      0   \n",
            "879      Potter, Mrs. Thomas Jr (Lily Alexenia Wilson)  female  56.0      0   \n",
            "\n",
            "     Parch      Ticket     Fare Cabin Embarked First Name  \n",
            "6        0       17463  51.8625   E46        S    Timothy  \n",
            "11       0      113783  26.5500  C103        S  Elizabeth  \n",
            "15       0      248706  16.0000   NaN        S       Mary  \n",
            "33       0  C.A. 24579  10.5000   NaN        S     Edward  \n",
            "52       0    PC 17572  76.7292   D33        C       Myna  \n",
            "..     ...         ...      ...   ...      ...        ...  \n",
            "857      0      113055  26.5500   E17        S      Peter  \n",
            "862      0       17466  25.9292   D17        S   Margaret  \n",
            "871      1       11751  52.5542   D35        S     Sallie  \n",
            "873      0      345765   9.0000   NaN        S     Victor  \n",
            "879      1       11767  83.1583   C50        C       Lily  \n",
            "\n",
            "[115 rows x 13 columns]\n"
          ]
        }
      ]
    },
    {
      "cell_type": "code",
      "source": [
        "# Выведите часть таблицы с пассажирами, возраст которых меньше 44 лет и которые мужского пола\n",
        "print(\"\\nМужчины младше 44 лет:\")\n",
        "print(df[(df['Age'] < 44) & (df['Sex'] == 'male')])"
      ],
      "metadata": {
        "colab": {
          "base_uri": "https://localhost:8080/"
        },
        "id": "qCIx20EHHz2r",
        "outputId": "540af62d-d4b9-4d49-c5fe-7bfd8ba7d7dd"
      },
      "execution_count": 7,
      "outputs": [
        {
          "output_type": "stream",
          "name": "stdout",
          "text": [
            "\n",
            "Мужчины младше 44 лет:\n",
            "     PassengerId  Survived  Pclass                            Name   Sex  \\\n",
            "0              1         0       3         Braund, Mr. Owen Harris  male   \n",
            "4              5         0       3        Allen, Mr. William Henry  male   \n",
            "7              8         0       3  Palsson, Master. Gosta Leonard  male   \n",
            "12            13         0       3  Saundercock, Mr. William Henry  male   \n",
            "13            14         0       3     Andersson, Mr. Anders Johan  male   \n",
            "..           ...       ...     ...                             ...   ...   \n",
            "883          884         0       2   Banfield, Mr. Frederick James  male   \n",
            "884          885         0       3          Sutehall, Mr. Henry Jr  male   \n",
            "886          887         0       2           Montvila, Rev. Juozas  male   \n",
            "889          890         1       1           Behr, Mr. Karl Howell  male   \n",
            "890          891         0       3             Dooley, Mr. Patrick  male   \n",
            "\n",
            "      Age  SibSp  Parch            Ticket    Fare Cabin Embarked First Name  \n",
            "0    22.0      1      0         A/5 21171   7.250   NaN        S       Owen  \n",
            "4    35.0      0      0            373450   8.050   NaN        S    William  \n",
            "7     2.0      3      1            349909  21.075   NaN        S   Palsson,  \n",
            "12   20.0      0      0         A/5. 2151   8.050   NaN        S    William  \n",
            "13   39.0      1      5            347082  31.275   NaN        S     Anders  \n",
            "..    ...    ...    ...               ...     ...   ...      ...        ...  \n",
            "883  28.0      0      0  C.A./SOTON 34068  10.500   NaN        S  Frederick  \n",
            "884  25.0      0      0   SOTON/OQ 392076   7.050   NaN        S      Henry  \n",
            "886  27.0      0      0            211536  13.000   NaN        S  Montvila,  \n",
            "889  26.0      0      0            111369  30.000  C148        C       Karl  \n",
            "890  32.0      0      0            370376   7.750   NaN        Q    Patrick  \n",
            "\n",
            "[368 rows x 13 columns]\n"
          ]
        }
      ]
    },
    {
      "cell_type": "code",
      "source": [
        "# Выведите количества n-местных кабин (в которых было 2, 3, 4, ... человека)\n",
        "df['Family Size'] = df['SibSp'] + df['Parch'] + 1\n",
        "print(\"\\nКоличество пассажиров в кабинах по числу мест:\")\n",
        "print(df['Family Size'].value_counts().sort_index())"
      ],
      "metadata": {
        "id": "MrDsgjD4H3ic",
        "outputId": "2c009643-f028-44a4-f478-69bb302600ef",
        "colab": {
          "base_uri": "https://localhost:8080/"
        }
      },
      "execution_count": 8,
      "outputs": [
        {
          "output_type": "stream",
          "name": "stdout",
          "text": [
            "\n",
            "Количество пассажиров в кабинах по числу мест:\n",
            "Family Size\n",
            "1     537\n",
            "2     161\n",
            "3     102\n",
            "4      29\n",
            "5      15\n",
            "6      22\n",
            "7      12\n",
            "8       6\n",
            "11      7\n",
            "Name: count, dtype: int64\n"
          ]
        }
      ]
    }
  ]
}